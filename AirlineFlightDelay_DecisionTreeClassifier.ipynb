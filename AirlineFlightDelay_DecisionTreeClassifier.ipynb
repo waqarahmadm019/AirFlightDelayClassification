{
 "cells": [
  {
   "cell_type": "code",
   "execution_count": 77,
   "id": "af803f47-7f42-41bd-b1dd-f40326de6b3b",
   "metadata": {},
   "outputs": [],
   "source": [
    "from pyspark.sql import SparkSession\n",
    "\n",
    "spark = SparkSession \\\n",
    "    .builder \\\n",
    "    .appName(\"Python Spark SQL basic example\") \\\n",
    "    .config(\"spark.some.config.option\", \"some-value\") \\\n",
    "    .getOrCreate()"
   ]
  },
  {
   "cell_type": "code",
   "execution_count": null,
   "id": "d0812e6d-100a-43e6-a6dd-497e711b3736",
   "metadata": {},
   "outputs": [],
   "source": []
  },
  {
   "cell_type": "code",
   "execution_count": 78,
   "id": "da1d853c-ed90-4216-b21c-b815bcdfd015",
   "metadata": {},
   "outputs": [
    {
     "name": "stdout",
     "output_type": "stream",
     "text": [
      "root\n",
      " |-- Passenger ID: string (nullable = true)\n",
      " |-- First Name: string (nullable = true)\n",
      " |-- Last Name: string (nullable = true)\n",
      " |-- Gender: string (nullable = true)\n",
      " |-- Age: string (nullable = true)\n",
      " |-- Nationality: string (nullable = true)\n",
      " |-- Airport Name: string (nullable = true)\n",
      " |-- Airport Country Code: string (nullable = true)\n",
      " |-- Country Name: string (nullable = true)\n",
      " |-- Airport Continent: string (nullable = true)\n",
      " |-- Continents: string (nullable = true)\n",
      " |-- Departure Date: string (nullable = true)\n",
      " |-- Arrival Airport: string (nullable = true)\n",
      " |-- Pilot Name: string (nullable = true)\n",
      " |-- Flight Status: string (nullable = true)\n",
      "\n"
     ]
    }
   ],
   "source": [
    "#from pyspark.sql import SparkSession\n",
    "#spark = SparkSession.builder.master('[*]').appName(\"CSV_related\").getOrCreate()\n",
    "#sc = spark.sparkContext\n",
    "#path = \"examples/src/main/resources/people.csv\"\n",
    "\n",
    "#df = spark.read.csv(path)\n",
    "#df.show()\n",
    "df = spark.read.option(\"delimiter\", \",\").option(\"header\", True).csv(\"Airline_Dataset.csv\")\n",
    "#df = spark.read.option(\"header\",True).csv(\"work/Airline_Dataset.csv\")\n",
    "df.printSchema()"
   ]
  },
  {
   "cell_type": "code",
   "execution_count": 79,
   "id": "7dfcc1e3-7324-4a58-96d3-2400ce1bd8a8",
   "metadata": {},
   "outputs": [
    {
     "name": "stdout",
     "output_type": "stream",
     "text": [
      "+------------+----------+--------------+------+---+--------------------+--------------------+--------------------+--------------------+-----------------+-------------+--------------+---------------+-------------------+-------------+\n",
      "|Passenger ID|First Name|     Last Name|Gender|Age|         Nationality|        Airport Name|Airport Country Code|        Country Name|Airport Continent|   Continents|Departure Date|Arrival Airport|         Pilot Name|Flight Status|\n",
      "+------------+----------+--------------+------+---+--------------------+--------------------+--------------------+--------------------+-----------------+-------------+--------------+---------------+-------------------+-------------+\n",
      "|       10856|    Edithe|        Leggis|Female| 62|               Japan|    Coldfoot Airport|                  US|       United States|              NAM|North America|     6/28/2022|            CXF|      Edithe Leggis|      On Time|\n",
      "|       43872|    Elwood|          Catt|  Male| 62|           Nicaragua|   Kugluktuk Airport|                  CA|              Canada|              NAM|North America|    12/26/2022|            YCO|        Elwood Catt|      On Time|\n",
      "|       42633|     Darby|       Felgate|  Male| 67|              Russia|Grenoble-Isère Ai...|                  FR|              France|               EU|       Europe|     1/18/2022|            GNB|      Darby Felgate|      On Time|\n",
      "|       78493|  Dominica|          Pyle|Female| 71|               China|Ottawa / Gatineau...|                  CA|              Canada|              NAM|North America|     9/16/2022|            YND|      Dominica Pyle|      Delayed|\n",
      "|       82072|       Bay|       Pencost|  Male| 21|               China|     Gillespie Field|                  US|       United States|              NAM|North America|     2/25/2022|            SEE|        Bay Pencost|      On Time|\n",
      "|       39630|      Lora|       Durbann|Female| 55|              Brazil|Coronel Horácio d...|                  BR|              Brazil|              SAM|South America|     6/10/2022|            LEC|       Lora Durbann|      On Time|\n",
      "|       11940|      Rand|          Bram|  Male| 73|         Ivory Coast|   Duxford Aerodrome|                  GB|      United Kingdom|               EU|       Europe|    10/30/2022|            QFO|          Rand Bram|    Cancelled|\n",
      "|       26470|  Perceval|      Dallosso|  Male| 36|             Vietnam|Maestro Wilson Fo...|                  BR|              Brazil|              SAM|South America|      4/7/2022|            STM|  Perceval Dallosso|    Cancelled|\n",
      "|       29447|     Aleda|        Pigram|Female| 35|Palestinian Terri...|Venice Marco Polo...|                  IT|               Italy|               EU|       Europe|     8/20/2022|            VCE|       Aleda Pigram|      On Time|\n",
      "|       75035|    Burlie|       Schustl|  Male| 13|            Thailand|   Vermilion Airport|                  CA|              Canada|              NAM|North America|      4/6/2022|            YVG|     Burlie Schustl|      On Time|\n",
      "|       29278|     Porty|          Jori|  Male| 39|             Tunisia|Nuevo Casas Grand...|                  MX|              Mexico|              NAM|North America|     5/27/2022|            NCG|         Porty Jori|    Cancelled|\n",
      "|       90106|    Briant|    De La Haye|  Male| 71|              Russia| Ruben Cantu Airport|                  PA|              Panama|              NAM|North America|      2/6/2022|            SYP|  Briant De La Haye|      Delayed|\n",
      "|       19631|     Kalie|        Scoble|Female| 47|              Sweden|     Loralai Airport|                  PK|            Pakistan|               AS|         Asia|     3/19/2022|            LRG|       Kalie Scoble|      Delayed|\n",
      "|       58109|  Catriona|      Beaument|Female| 77|              Russia|       Cudal Airport|                  AU|           Australia|               OC|      Oceania|     3/24/2022|            CUG|  Catriona Beaument|      Delayed|\n",
      "|       53524|   Amberly|      Handling|Female| 32|               China|Farmington Region...|                  US|       United States|              NAM|North America|      3/7/2022|            FAM|   Amberly Handling|      Delayed|\n",
      "|       22064|      Dyna|De'Vere - Hunt|Female| 22|               China|  Oudtshoorn Airport|                  ZA|        South Africa|               AF|       Africa|     7/18/2022|            OUH|Dyna De'Vere - Hunt|    Cancelled|\n",
      "|       12874|   Janella|      Hardaker|Female| 28|            Colombia|      Zaraza Airport|                  VE|Venezuela, Boliva...|              SAM|South America|     9/23/2022|            ZRZ|   Janella Hardaker|      On Time|\n",
      "|       39783|     Alvin|        Wenzel|  Male| 12|              Greece|       Enshi Airport|                  CN|               China|               AS|         Asia|     3/29/2022|            ENH|       Alvin Wenzel|      Delayed|\n",
      "|       15461|   Jerrine|       Peeters|Female| 87|         Philippines|    Thompson Airport|                  CA|              Canada|              NAM|North America|     11/3/2022|            YTH|    Jerrine Peeters|    Cancelled|\n",
      "|       97649|    Warner|       Driutti|  Male| 62|               China|Guilin Liangjiang...|                  CN|               China|               AS|         Asia|      9/5/2022|            KWL|     Warner Driutti|    Cancelled|\n",
      "+------------+----------+--------------+------+---+--------------------+--------------------+--------------------+--------------------+-----------------+-------------+--------------+---------------+-------------------+-------------+\n",
      "only showing top 20 rows\n",
      "\n"
     ]
    }
   ],
   "source": [
    "df.show()"
   ]
  },
  {
   "cell_type": "code",
   "execution_count": 80,
   "id": "481035f1-fec1-4b0f-8ba0-2fe16212daeb",
   "metadata": {},
   "outputs": [
    {
     "name": "stdout",
     "output_type": "stream",
     "text": [
      "root\n",
      " |-- Gender: string (nullable = true)\n",
      " |-- Age: string (nullable = true)\n",
      " |-- Nationality: string (nullable = true)\n",
      " |-- Airport Name: string (nullable = true)\n",
      " |-- Airport Country Code: string (nullable = true)\n",
      " |-- Country Name: string (nullable = true)\n",
      " |-- Airport Continent: string (nullable = true)\n",
      " |-- Continents: string (nullable = true)\n",
      " |-- Departure Date: string (nullable = true)\n",
      " |-- Arrival Airport: string (nullable = true)\n",
      " |-- Pilot Name: string (nullable = true)\n",
      " |-- Flight Status: string (nullable = true)\n",
      "\n"
     ]
    }
   ],
   "source": [
    "df.drop(\"Passenger ID\",\"First Name\",\"Last Name\") \\\n",
    "    .printSchema()\n",
    "#df.drop(['Passenger ID', 'First Name','Last Name'])"
   ]
  },
  {
   "cell_type": "code",
   "execution_count": 81,
   "id": "fdf26ca6-19eb-4535-b012-f4286d053da0",
   "metadata": {},
   "outputs": [],
   "source": [
    "gender_count = df.groupBy('Gender').count().orderBy('count')\n"
   ]
  },
  {
   "cell_type": "code",
   "execution_count": 82,
   "id": "0136c3b5-3b08-4ad9-b93c-ee4d145eb328",
   "metadata": {},
   "outputs": [
    {
     "name": "stdout",
     "output_type": "stream",
     "text": [
      "+------+-----+\n",
      "|Gender|count|\n",
      "+------+-----+\n",
      "|Female|49021|\n",
      "|  Male|49598|\n",
      "+------+-----+\n",
      "\n"
     ]
    }
   ],
   "source": [
    "gender_count.show()"
   ]
  },
  {
   "cell_type": "code",
   "execution_count": 83,
   "id": "700e92c2-8adb-40bf-82f7-887eb1fb2012",
   "metadata": {},
   "outputs": [
    {
     "name": "stdout",
     "output_type": "stream",
     "text": [
      "+------+\n",
      "|Gender|\n",
      "+------+\n",
      "|Female|\n",
      "|  Male|\n",
      "+------+\n",
      "\n"
     ]
    }
   ],
   "source": [
    "gender = df.select('Gender').distinct()\n",
    "gender.show()"
   ]
  },
  {
   "cell_type": "code",
   "execution_count": 84,
   "id": "f2a3baf6-6d87-48cf-9fd0-7cc9cdd9d115",
   "metadata": {},
   "outputs": [
    {
     "name": "stdout",
     "output_type": "stream",
     "text": [
      "+---------------------------+\n",
      "|Nationality                |\n",
      "+---------------------------+\n",
      "|Chad                       |\n",
      "|Russia                     |\n",
      "|Paraguay                   |\n",
      "|Anguilla                   |\n",
      "|Macao                      |\n",
      "|Yemen                      |\n",
      "|U.S. Virgin Islands        |\n",
      "|Senegal                    |\n",
      "|Sweden                     |\n",
      "|Tokelau                    |\n",
      "|Kiribati                   |\n",
      "|French Southern Territories|\n",
      "|Svalbard and Jan Mayen     |\n",
      "|Guyana                     |\n",
      "|Philippines                |\n",
      "|Eritrea                    |\n",
      "|Jersey                     |\n",
      "|Norfolk Island             |\n",
      "|Djibouti                   |\n",
      "|Tonga                      |\n",
      "+---------------------------+\n",
      "only showing top 20 rows\n",
      "\n"
     ]
    }
   ],
   "source": [
    "df.select('Nationality').distinct().show(truncate=False)"
   ]
  },
  {
   "cell_type": "code",
   "execution_count": 85,
   "id": "10d7233c-47fd-496f-ba51-d49a8e6e5dab",
   "metadata": {},
   "outputs": [
    {
     "name": "stdout",
     "output_type": "stream",
     "text": [
      "+-------------------+\n",
      "|        Nationality|\n",
      "+-------------------+\n",
      "|               Chad|\n",
      "|             Russia|\n",
      "|           Paraguay|\n",
      "|           Anguilla|\n",
      "|              Macao|\n",
      "|              Yemen|\n",
      "|U.S. Virgin Islands|\n",
      "|            Senegal|\n",
      "|             Sweden|\n",
      "|            Tokelau|\n",
      "+-------------------+\n",
      "only showing top 10 rows\n",
      "\n"
     ]
    }
   ],
   "source": [
    "nationality= df.select('Nationality').distinct()\n",
    "nationality.show(10)"
   ]
  },
  {
   "cell_type": "code",
   "execution_count": 86,
   "id": "179b427d-ab79-4dd9-b701-f8b6b1131390",
   "metadata": {},
   "outputs": [
    {
     "name": "stdout",
     "output_type": "stream",
     "text": [
      "+-------------+-----+\n",
      "|  Nationality|count|\n",
      "+-------------+-----+\n",
      "|        China|18317|\n",
      "|    Indonesia|10559|\n",
      "|       Russia| 5693|\n",
      "|  Philippines| 5239|\n",
      "|       Brazil| 3791|\n",
      "|     Portugal| 3299|\n",
      "|       Poland| 3245|\n",
      "|       France| 2907|\n",
      "|       Sweden| 2397|\n",
      "|United States| 2105|\n",
      "+-------------+-----+\n",
      "only showing top 10 rows\n",
      "\n"
     ]
    }
   ],
   "source": [
    "nationality_count = df.groupBy('Nationality').count() #.orderBy('count')\n",
    "nationality_count.sort(\"count\", ascending=False).show(10)\n",
    "#nationality_count.sort(nationality_count.count.asc()).show()\n",
    "\n",
    "\n",
    "######nationality_count.sort(nationality_count.('count').asc()).show(300)\n",
    "#nationality_count.sort(nationality_count('count').asc()).show(300)"
   ]
  },
  {
   "cell_type": "code",
   "execution_count": 87,
   "id": "d635f2a6-d600-4cce-b36e-5d8a111adcfc",
   "metadata": {},
   "outputs": [
    {
     "name": "stdout",
     "output_type": "stream",
     "text": [
      "+--------------------+\n",
      "|         Nationality|\n",
      "+--------------------+\n",
      "|                Chad|\n",
      "|              Russia|\n",
      "|            Paraguay|\n",
      "|            Anguilla|\n",
      "|               Macao|\n",
      "|               Yemen|\n",
      "| U.S. Virgin Islands|\n",
      "|             Senegal|\n",
      "|              Sweden|\n",
      "|             Tokelau|\n",
      "|            Kiribati|\n",
      "|French Southern T...|\n",
      "|Svalbard and Jan ...|\n",
      "|              Guyana|\n",
      "|         Philippines|\n",
      "|             Eritrea|\n",
      "|              Jersey|\n",
      "|      Norfolk Island|\n",
      "|            Djibouti|\n",
      "|               Tonga|\n",
      "+--------------------+\n",
      "only showing top 20 rows\n",
      "\n"
     ]
    }
   ],
   "source": [
    "nationality_count.select('Nationality').show()"
   ]
  },
  {
   "cell_type": "code",
   "execution_count": 88,
   "id": "ae922ac6-2850-4bf8-b44b-63e8f5229dc2",
   "metadata": {},
   "outputs": [
    {
     "data": {
      "text/html": [
       "<div>\n",
       "<style scoped>\n",
       "    .dataframe tbody tr th:only-of-type {\n",
       "        vertical-align: middle;\n",
       "    }\n",
       "\n",
       "    .dataframe tbody tr th {\n",
       "        vertical-align: top;\n",
       "    }\n",
       "\n",
       "    .dataframe thead th {\n",
       "        text-align: right;\n",
       "    }\n",
       "</style>\n",
       "<table border=\"1\" class=\"dataframe\">\n",
       "  <thead>\n",
       "    <tr style=\"text-align: right;\">\n",
       "      <th></th>\n",
       "      <th>Nationality</th>\n",
       "      <th>count</th>\n",
       "    </tr>\n",
       "  </thead>\n",
       "  <tbody>\n",
       "    <tr>\n",
       "      <th>0</th>\n",
       "      <td>Chad</td>\n",
       "      <td>87</td>\n",
       "    </tr>\n",
       "    <tr>\n",
       "      <th>1</th>\n",
       "      <td>Russia</td>\n",
       "      <td>5693</td>\n",
       "    </tr>\n",
       "    <tr>\n",
       "      <th>2</th>\n",
       "      <td>Paraguay</td>\n",
       "      <td>137</td>\n",
       "    </tr>\n",
       "    <tr>\n",
       "      <th>3</th>\n",
       "      <td>Anguilla</td>\n",
       "      <td>4</td>\n",
       "    </tr>\n",
       "    <tr>\n",
       "      <th>4</th>\n",
       "      <td>Macao</td>\n",
       "      <td>2</td>\n",
       "    </tr>\n",
       "  </tbody>\n",
       "</table>\n",
       "</div>"
      ],
      "text/plain": [
       "  Nationality  count\n",
       "0        Chad     87\n",
       "1      Russia   5693\n",
       "2    Paraguay    137\n",
       "3    Anguilla      4\n",
       "4       Macao      2"
      ]
     },
     "execution_count": 88,
     "metadata": {},
     "output_type": "execute_result"
    }
   ],
   "source": [
    "pandasdf = nationality_count.toPandas()\n",
    "pandasdf.head()\n"
   ]
  },
  {
   "cell_type": "code",
   "execution_count": 89,
   "id": "b6789062-4f69-4312-ac73-409359e2d69c",
   "metadata": {},
   "outputs": [
    {
     "data": {
      "text/html": [
       "<div>\n",
       "<style scoped>\n",
       "    .dataframe tbody tr th:only-of-type {\n",
       "        vertical-align: middle;\n",
       "    }\n",
       "\n",
       "    .dataframe tbody tr th {\n",
       "        vertical-align: top;\n",
       "    }\n",
       "\n",
       "    .dataframe thead th {\n",
       "        text-align: right;\n",
       "    }\n",
       "</style>\n",
       "<table border=\"1\" class=\"dataframe\">\n",
       "  <thead>\n",
       "    <tr style=\"text-align: right;\">\n",
       "      <th></th>\n",
       "      <th>Nationality</th>\n",
       "      <th>count</th>\n",
       "    </tr>\n",
       "  </thead>\n",
       "  <tbody>\n",
       "    <tr>\n",
       "      <th>69</th>\n",
       "      <td>China</td>\n",
       "      <td>18317</td>\n",
       "    </tr>\n",
       "    <tr>\n",
       "      <th>145</th>\n",
       "      <td>Indonesia</td>\n",
       "      <td>10559</td>\n",
       "    </tr>\n",
       "    <tr>\n",
       "      <th>1</th>\n",
       "      <td>Russia</td>\n",
       "      <td>5693</td>\n",
       "    </tr>\n",
       "    <tr>\n",
       "      <th>14</th>\n",
       "      <td>Philippines</td>\n",
       "      <td>5239</td>\n",
       "    </tr>\n",
       "    <tr>\n",
       "      <th>187</th>\n",
       "      <td>Brazil</td>\n",
       "      <td>3791</td>\n",
       "    </tr>\n",
       "    <tr>\n",
       "      <th>204</th>\n",
       "      <td>Portugal</td>\n",
       "      <td>3299</td>\n",
       "    </tr>\n",
       "    <tr>\n",
       "      <th>203</th>\n",
       "      <td>Poland</td>\n",
       "      <td>3245</td>\n",
       "    </tr>\n",
       "    <tr>\n",
       "      <th>38</th>\n",
       "      <td>France</td>\n",
       "      <td>2907</td>\n",
       "    </tr>\n",
       "    <tr>\n",
       "      <th>8</th>\n",
       "      <td>Sweden</td>\n",
       "      <td>2397</td>\n",
       "    </tr>\n",
       "    <tr>\n",
       "      <th>70</th>\n",
       "      <td>United States</td>\n",
       "      <td>2105</td>\n",
       "    </tr>\n",
       "  </tbody>\n",
       "</table>\n",
       "</div>"
      ],
      "text/plain": [
       "       Nationality  count\n",
       "69           China  18317\n",
       "145      Indonesia  10559\n",
       "1           Russia   5693\n",
       "14     Philippines   5239\n",
       "187         Brazil   3791\n",
       "204       Portugal   3299\n",
       "203         Poland   3245\n",
       "38          France   2907\n",
       "8           Sweden   2397\n",
       "70   United States   2105"
      ]
     },
     "execution_count": 89,
     "metadata": {},
     "output_type": "execute_result"
    }
   ],
   "source": [
    "top_10_countries=pandasdf.nlargest(10,'count')\n",
    "top_10_countries"
   ]
  },
  {
   "cell_type": "code",
   "execution_count": 90,
   "id": "c668ed87-51a0-4289-8dcb-978c06468210",
   "metadata": {},
   "outputs": [
    {
     "data": {
      "text/plain": [
       "<Axes: xlabel='Nationality'>"
      ]
     },
     "execution_count": 90,
     "metadata": {},
     "output_type": "execute_result"
    },
    {
     "data": {
      "image/png": "[encoded data removed]",
      "text/plain": [
       "<Figure size 640x480 with 1 Axes>"
      ]
     },
     "metadata": {},
     "output_type": "display_data"
    }
   ],
   "source": [
    "top_10_countries.plot.bar(x='Nationality', y='count') "
   ]
  },
  {
   "cell_type": "code",
   "execution_count": 91,
   "id": "19ab33a4-082d-47cb-b5f0-fbe461fbec59",
   "metadata": {},
   "outputs": [
    {
     "data": {
      "text/plain": [
       "<Axes: xlabel='Age', ylabel='Density'>"
      ]
     },
     "execution_count": 91,
     "metadata": {},
     "output_type": "execute_result"
    },
    {
     "data": {
      "image/png": "[encoded data removed]",
      "text/plain": [
       "<Figure size 640x480 with 1 Axes>"
      ]
     },
     "metadata": {},
     "output_type": "display_data"
    }
   ],
   "source": [
    "from seaborn import kdeplot\n",
    "data = df.toPandas()\n",
    "data[\"Age\"] = data[\"Age\"].astype(int)\n",
    "kdeplot(data=data, x='Age', hue='Gender')"
   ]
  },
  {
   "cell_type": "code",
   "execution_count": 92,
   "id": "47999803-7322-4ae6-95be-6173a8333222",
   "metadata": {},
   "outputs": [
    {
     "name": "stdout",
     "output_type": "stream",
     "text": [
      "+------------+----------+--------------+------+---+--------------------+--------------------+--------------------+--------------------+-----------------+-------------+--------------+---------------+-------------------+-------------+\n",
      "|Passenger ID|First Name|     Last Name|Gender|Age|         Nationality|        Airport Name|Airport Country Code|        Country Name|Airport Continent|   Continents|Departure Date|Arrival Airport|         Pilot Name|Flight Status|\n",
      "+------------+----------+--------------+------+---+--------------------+--------------------+--------------------+--------------------+-----------------+-------------+--------------+---------------+-------------------+-------------+\n",
      "|       10856|    Edithe|        Leggis|Female| 62|               Japan|    Coldfoot Airport|                  US|       United States|              NAM|North America|     6/28/2022|            CXF|      Edithe Leggis|      On Time|\n",
      "|       43872|    Elwood|          Catt|  Male| 62|           Nicaragua|   Kugluktuk Airport|                  CA|              Canada|              NAM|North America|    12/26/2022|            YCO|        Elwood Catt|      On Time|\n",
      "|       42633|     Darby|       Felgate|  Male| 67|              Russia|Grenoble-Isère Ai...|                  FR|              France|               EU|       Europe|     1/18/2022|            GNB|      Darby Felgate|      On Time|\n",
      "|       78493|  Dominica|          Pyle|Female| 71|               China|Ottawa / Gatineau...|                  CA|              Canada|              NAM|North America|     9/16/2022|            YND|      Dominica Pyle|      Delayed|\n",
      "|       82072|       Bay|       Pencost|  Male| 21|               China|     Gillespie Field|                  US|       United States|              NAM|North America|     2/25/2022|            SEE|        Bay Pencost|      On Time|\n",
      "|       39630|      Lora|       Durbann|Female| 55|              Brazil|Coronel Horácio d...|                  BR|              Brazil|              SAM|South America|     6/10/2022|            LEC|       Lora Durbann|      On Time|\n",
      "|       11940|      Rand|          Bram|  Male| 73|         Ivory Coast|   Duxford Aerodrome|                  GB|      United Kingdom|               EU|       Europe|    10/30/2022|            QFO|          Rand Bram|    Cancelled|\n",
      "|       26470|  Perceval|      Dallosso|  Male| 36|             Vietnam|Maestro Wilson Fo...|                  BR|              Brazil|              SAM|South America|      4/7/2022|            STM|  Perceval Dallosso|    Cancelled|\n",
      "|       29447|     Aleda|        Pigram|Female| 35|Palestinian Terri...|Venice Marco Polo...|                  IT|               Italy|               EU|       Europe|     8/20/2022|            VCE|       Aleda Pigram|      On Time|\n",
      "|       75035|    Burlie|       Schustl|  Male| 13|            Thailand|   Vermilion Airport|                  CA|              Canada|              NAM|North America|      4/6/2022|            YVG|     Burlie Schustl|      On Time|\n",
      "|       29278|     Porty|          Jori|  Male| 39|             Tunisia|Nuevo Casas Grand...|                  MX|              Mexico|              NAM|North America|     5/27/2022|            NCG|         Porty Jori|    Cancelled|\n",
      "|       90106|    Briant|    De La Haye|  Male| 71|              Russia| Ruben Cantu Airport|                  PA|              Panama|              NAM|North America|      2/6/2022|            SYP|  Briant De La Haye|      Delayed|\n",
      "|       19631|     Kalie|        Scoble|Female| 47|              Sweden|     Loralai Airport|                  PK|            Pakistan|               AS|         Asia|     3/19/2022|            LRG|       Kalie Scoble|      Delayed|\n",
      "|       58109|  Catriona|      Beaument|Female| 77|              Russia|       Cudal Airport|                  AU|           Australia|               OC|      Oceania|     3/24/2022|            CUG|  Catriona Beaument|      Delayed|\n",
      "|       53524|   Amberly|      Handling|Female| 32|               China|Farmington Region...|                  US|       United States|              NAM|North America|      3/7/2022|            FAM|   Amberly Handling|      Delayed|\n",
      "|       22064|      Dyna|De'Vere - Hunt|Female| 22|               China|  Oudtshoorn Airport|                  ZA|        South Africa|               AF|       Africa|     7/18/2022|            OUH|Dyna De'Vere - Hunt|    Cancelled|\n",
      "|       12874|   Janella|      Hardaker|Female| 28|            Colombia|      Zaraza Airport|                  VE|Venezuela, Boliva...|              SAM|South America|     9/23/2022|            ZRZ|   Janella Hardaker|      On Time|\n",
      "|       39783|     Alvin|        Wenzel|  Male| 12|              Greece|       Enshi Airport|                  CN|               China|               AS|         Asia|     3/29/2022|            ENH|       Alvin Wenzel|      Delayed|\n",
      "|       15461|   Jerrine|       Peeters|Female| 87|         Philippines|    Thompson Airport|                  CA|              Canada|              NAM|North America|     11/3/2022|            YTH|    Jerrine Peeters|    Cancelled|\n",
      "|       97649|    Warner|       Driutti|  Male| 62|               China|Guilin Liangjiang...|                  CN|               China|               AS|         Asia|      9/5/2022|            KWL|     Warner Driutti|    Cancelled|\n",
      "+------------+----------+--------------+------+---+--------------------+--------------------+--------------------+--------------------+-----------------+-------------+--------------+---------------+-------------------+-------------+\n",
      "only showing top 20 rows\n",
      "\n"
     ]
    }
   ],
   "source": [
    "df.show()"
   ]
  },
  {
   "cell_type": "code",
   "execution_count": 93,
   "id": "e41465b1-e537-4b3f-ae7b-cdf7b273020b",
   "metadata": {},
   "outputs": [
    {
     "name": "stdout",
     "output_type": "stream",
     "text": [
      "+----------------------------------------+\n",
      "|Airport Name                            |\n",
      "+----------------------------------------+\n",
      "|Guilin Liangjiang International Airport |\n",
      "|Playa Baracoa Airport                   |\n",
      "|Clinton Creek Airport                   |\n",
      "|Port Gentil Airport                     |\n",
      "|Big Lake Airport                        |\n",
      "|Sanikiluaq Airport                      |\n",
      "|Yichun Mingyueshan Airport              |\n",
      "|San Pedro Airport                       |\n",
      "|Siassi Airport                          |\n",
      "|Capitán Av. Selin Zeitun Lopez Airport  |\n",
      "|Boundary Bay Airport                    |\n",
      "|Loncopue Airport                        |\n",
      "|Five Mile Airport                       |\n",
      "|Vohimarina Airport                      |\n",
      "|Miller Field                            |\n",
      "|China Bay Airport                       |\n",
      "|Fort Worth Meacham International Airport|\n",
      "|Mkuze Airport                           |\n",
      "|São Gabriel Airport                     |\n",
      "|Adelaide International Airport          |\n",
      "+----------------------------------------+\n",
      "only showing top 20 rows\n",
      "\n"
     ]
    }
   ],
   "source": [
    "df.select('Airport Name').distinct().show(truncate=False)"
   ]
  },
  {
   "cell_type": "code",
   "execution_count": 94,
   "id": "1bff2371-584e-450d-bec3-4776687a35ee",
   "metadata": {},
   "outputs": [
    {
     "name": "stdout",
     "output_type": "stream",
     "text": [
      "+-------------+-----+\n",
      "|Flight Status|count|\n",
      "+-------------+-----+\n",
      "|    Cancelled|32942|\n",
      "|      On Time|32846|\n",
      "|      Delayed|32831|\n",
      "+-------------+-----+\n",
      "\n"
     ]
    }
   ],
   "source": [
    "flightstatus_count = df.groupBy('Flight Status').count() #.orderBy('count')\n",
    "flightstatus_count.sort(\"count\", ascending=False).show(10)"
   ]
  },
  {
   "cell_type": "code",
   "execution_count": 95,
   "id": "4f5b4162-3136-4af6-a28c-cd1d8f5c2ac6",
   "metadata": {},
   "outputs": [
    {
     "name": "stdout",
     "output_type": "stream",
     "text": [
      "+------------+----------+----------+------+---+-------------+--------------------+--------------------+-------------+-----------------+-------------+--------------+---------------+-----------------+-------------+\n",
      "|Passenger ID|First Name| Last Name|Gender|Age|  Nationality|        Airport Name|Airport Country Code| Country Name|Airport Continent|   Continents|Departure Date|Arrival Airport|       Pilot Name|Flight Status|\n",
      "+------------+----------+----------+------+---+-------------+--------------------+--------------------+-------------+-----------------+-------------+--------------+---------------+-----------------+-------------+\n",
      "|       10856|    Edithe|    Leggis|Female| 62|        Japan|    Coldfoot Airport|                  US|United States|              NAM|North America|     6/28/2022|            CXF|    Edithe Leggis|      On Time|\n",
      "|       43872|    Elwood|      Catt|  Male| 62|    Nicaragua|   Kugluktuk Airport|                  CA|       Canada|              NAM|North America|    12/26/2022|            YCO|      Elwood Catt|      On Time|\n",
      "|       78493|  Dominica|      Pyle|Female| 71|        China|Ottawa / Gatineau...|                  CA|       Canada|              NAM|North America|     9/16/2022|            YND|    Dominica Pyle|      Delayed|\n",
      "|       82072|       Bay|   Pencost|  Male| 21|        China|     Gillespie Field|                  US|United States|              NAM|North America|     2/25/2022|            SEE|      Bay Pencost|      On Time|\n",
      "|       75035|    Burlie|   Schustl|  Male| 13|     Thailand|   Vermilion Airport|                  CA|       Canada|              NAM|North America|      4/6/2022|            YVG|   Burlie Schustl|      On Time|\n",
      "|       29278|     Porty|      Jori|  Male| 39|      Tunisia|Nuevo Casas Grand...|                  MX|       Mexico|              NAM|North America|     5/27/2022|            NCG|       Porty Jori|    Cancelled|\n",
      "|       90106|    Briant|De La Haye|  Male| 71|       Russia| Ruben Cantu Airport|                  PA|       Panama|              NAM|North America|      2/6/2022|            SYP|Briant De La Haye|      Delayed|\n",
      "|       53524|   Amberly|  Handling|Female| 32|        China|Farmington Region...|                  US|United States|              NAM|North America|      3/7/2022|            FAM| Amberly Handling|      Delayed|\n",
      "|       15461|   Jerrine|   Peeters|Female| 87|  Philippines|    Thompson Airport|                  CA|       Canada|              NAM|North America|     11/3/2022|            YTH|  Jerrine Peeters|    Cancelled|\n",
      "|       61145|     Paige|    Hayhow|  Male| 24|       Sweden|Crested Butte Air...|                  US|United States|              NAM|North America|     2/19/2022|            CSE|     Paige Hayhow|      Delayed|\n",
      "|       82431|    Dorisa|     Skill|Female| 19|      Ukraine| St Augustin Airport|                  CA|       Canada|              NAM|North America|     11/5/2022|            YIF|     Dorisa Skill|    Cancelled|\n",
      "|       40864|     Sayre|   Stroyan|  Male| 87|    Indonesia|Elkhart Municipal...|                  US|United States|              NAM|North America|     3/20/2022|            EKI|    Sayre Stroyan|    Cancelled|\n",
      "|       37434|     Halie|     Jewar|Female| 53|       France|Wiley Post Will R...|                  US|United States|              NAM|North America|     12/5/2022|            BRW|      Halie Jewar|      Delayed|\n",
      "|       64535|    Celina| Boothebie|Female| 58|       Latvia|Gorge Harbour Sea...|                  CA|       Canada|              NAM|North America|      8/5/2022|            YGE| Celina Boothebie|    Cancelled|\n",
      "|       19205|    Ashlie|    Rotham|Female| 44|      Ireland|      Zahn's Airport|                  US|United States|              NAM|North America|    11/23/2022|            AYZ|    Ashlie Rotham|      Delayed|\n",
      "|       88025|   Rudolph|   Housbie|  Male| 74|         Iran|Campbell River Ai...|                  CA|       Canada|              NAM|North America|     7/22/2022|            YBL|  Rudolph Housbie|      Delayed|\n",
      "|       55152|     Bibby|  Evershed|Female| 73|    Indonesia|Colonel Hill Airport|                  BS|      Bahamas|              NAM|North America|    12/11/2022|            CRI|   Bibby Evershed|      Delayed|\n",
      "|       39880|     Zelig|   Brinded|  Male| 61|       Brazil|Cincinnati Northe...|                  US|United States|              NAM|North America|     6/16/2022|            CVG|    Zelig Brinded|      On Time|\n",
      "|       93761|    Lamond|     Ahmed|  Male| 21|      Croatia|Sawyer Internatio...|                  US|United States|              NAM|North America|     5/17/2022|            MQT|     Lamond Ahmed|    Cancelled|\n",
      "|       59791|    Haroun|    holmes|  Male| 54|United States|Susanville Munici...|                  US|United States|              NAM|North America|     3/21/2022|            SVE|    Haroun holmes|      On Time|\n",
      "+------------+----------+----------+------+---+-------------+--------------------+--------------------+-------------+-----------------+-------------+--------------+---------------+-----------------+-------------+\n",
      "only showing top 20 rows\n",
      "\n"
     ]
    }
   ],
   "source": [
    "N_America=df.filter(df.Continents =='North America') #.count()\n",
    "N_America.show(truncate = True)\n"
   ]
  },
  {
   "cell_type": "code",
   "execution_count": 96,
   "id": "3425767f-ac15-4f78-b5c9-6da6df18f58e",
   "metadata": {},
   "outputs": [
    {
     "name": "stdout",
     "output_type": "stream",
     "text": [
      "+-------------+-----+\n",
      "|Flight Status|count|\n",
      "+-------------+-----+\n",
      "|      Delayed|10696|\n",
      "|    Cancelled|10693|\n",
      "|      On Time|10644|\n",
      "+-------------+-----+\n",
      "\n"
     ]
    }
   ],
   "source": [
    "N_America_count = N_America.groupBy('Flight Status').count() #.orderBy('count')\n",
    "N_America_count.sort(\"count\", ascending=False).show(10)"
   ]
  },
  {
   "cell_type": "code",
   "execution_count": 97,
   "id": "1ffcb3fb-8ce3-45cc-ab81-a82ab0dba721",
   "metadata": {},
   "outputs": [
    {
     "name": "stdout",
     "output_type": "stream",
     "text": [
      "+------------+----------+----------+------+---+--------------------+--------------------+--------------------+--------------------+-----------------+----------+--------------+---------------+------------------+-------------+\n",
      "|Passenger ID|First Name| Last Name|Gender|Age|         Nationality|        Airport Name|Airport Country Code|        Country Name|Airport Continent|Continents|Departure Date|Arrival Airport|        Pilot Name|Flight Status|\n",
      "+------------+----------+----------+------+---+--------------------+--------------------+--------------------+--------------------+-----------------+----------+--------------+---------------+------------------+-------------+\n",
      "|       19631|     Kalie|    Scoble|Female| 47|              Sweden|     Loralai Airport|                  PK|            Pakistan|               AS|      Asia|     3/19/2022|            LRG|      Kalie Scoble|      Delayed|\n",
      "|       39783|     Alvin|    Wenzel|  Male| 12|              Greece|       Enshi Airport|                  CN|               China|               AS|      Asia|     3/29/2022|            ENH|      Alvin Wenzel|      Delayed|\n",
      "|       97649|    Warner|   Driutti|  Male| 62|               China|Guilin Liangjiang...|                  CN|               China|               AS|      Asia|      9/5/2022|            KWL|    Warner Driutti|    Cancelled|\n",
      "|       37558|  Julietta|  Delahunt|Female| 14|Democratic Republ...|       Bagan Airport|                  MM|             Myanmar|               AS|      Asia|     10/3/2022|            NYU| Julietta Delahunt|      Delayed|\n",
      "|       80852|   Rosalyn|   Vondrys|Female| 56|               China|  Rar Gwamar Airport|                  ID|           Indonesia|               AS|      Asia|      7/8/2022|            DOB|   Rosalyn Vondrys|      Delayed|\n",
      "|       18862|    Anders|  Treadger|  Male| 62|          Madagascar|       Mirny Airport|                  RU|  Russian Federation|               AS|      Asia|     2/21/2022|            MJZ|   Anders Treadger|      On Time|\n",
      "|       12928|      Gnni|Chaperling|Female| 17|              Brazil|      Quzhou Airport|                  CN|               China|               AS|      Asia|     9/22/2022|            JUZ|   Gnni Chaperling|      On Time|\n",
      "|       69358|      Peri|   Battram|Female| 16|                Peru|       Putao Airport|                  MM|             Myanmar|               AS|      Asia|    12/18/2022|            PBU|      Peri Battram|    Cancelled|\n",
      "|       45018|  Francine|  Adolfsen|Female| 54|           Indonesia|Nanjing Lukou Air...|                  CN|               China|               AS|      Asia|    10/11/2022|            NKG| Francine Adolfsen|    Cancelled|\n",
      "|       23779|     Kelci|  Colliver|Female| 39|               China|Matsu Nangan Airport|                  TW|Taiwan, Province ...|               AS|      Asia|    10/27/2022|            LZN|    Kelci Colliver|      On Time|\n",
      "|       16341|     Denys|  Endricci|  Male| 33|             Nigeria|Biju Patnaik Airport|                  IN|               India|               AS|      Asia|     7/22/2022|            BBI|    Denys Endricci|      Delayed|\n",
      "|       95613|   Fidelio|    Guerry|  Male|  3|               China|       Yuruf Airport|                  ID|           Indonesia|               AS|      Asia|      5/2/2022|            RUF|    Fidelio Guerry|      Delayed|\n",
      "|       41015|      Inge|    Hewins|Female| 30|             Morocco|      Fakfak Airport|                  ID|           Indonesia|               AS|      Asia|      4/9/2022|            FKQ|       Inge Hewins|    Cancelled|\n",
      "|       82767| Constancy|     Darke|Female| 51|               China|  Batticaloa Airport|                  LK|           Sri Lanka|               AS|      Asia|     2/12/2022|            BTC|   Constancy Darke|    Cancelled|\n",
      "|       95434|   Mattias|   Darrell|  Male| 78|            Honduras|       Aldan Airport|                  RU|  Russian Federation|               AS|      Asia|      8/7/2022|            ADH|   Mattias Darrell|    Cancelled|\n",
      "|       86701|    Cirilo| Camoletto|  Male| 19|               China|     Bhojpur Airport|                  NP|               Nepal|               AS|      Asia|    12/10/2022|            BHP|  Cirilo Camoletto|      Delayed|\n",
      "|       76666| Gabriella|     Patry|Female| 65|               China|         Lar Airport|                  IR|Iran, Islamic Rep...|               AS|      Asia|     7/31/2022|            LRR|   Gabriella Patry|      Delayed|\n",
      "|       40102|  Sherwood| Woolaston|  Male| 80|            Portugal|      Tarama Airport|                  JP|               Japan|               AS|      Asia|     4/13/2022|            TRA|Sherwood Woolaston|      On Time|\n",
      "|       12578|        Ag|     Gumby|Female| 76|               China|       Akita Airport|                  JP|               Japan|               AS|      Asia|      6/3/2022|            AXT|          Ag Gumby|      Delayed|\n",
      "|       27716|   Gwenore|  Smaridge|Female|  7|              Russia|      Handan Airport|                  CN|               China|               AS|      Asia|      3/8/2022|            HDG|  Gwenore Smaridge|      Delayed|\n",
      "+------------+----------+----------+------+---+--------------------+--------------------+--------------------+--------------------+-----------------+----------+--------------+---------------+------------------+-------------+\n",
      "only showing top 20 rows\n",
      "\n"
     ]
    }
   ],
   "source": [
    "asia=df.filter(df.Continents =='Asia') #.count()\n",
    "asia.show(truncate = True)"
   ]
  },
  {
   "cell_type": "code",
   "execution_count": 98,
   "id": "810556db-ecfc-4605-bd9a-2a770878fa74",
   "metadata": {},
   "outputs": [
    {
     "name": "stdout",
     "output_type": "stream",
     "text": [
      "+-------------+-----+\n",
      "|Flight Status|count|\n",
      "+-------------+-----+\n",
      "|      On Time| 6242|\n",
      "|    Cancelled| 6235|\n",
      "|      Delayed| 6160|\n",
      "+-------------+-----+\n",
      "\n"
     ]
    }
   ],
   "source": [
    "asia_count = asia.groupBy('Flight Status').count() #.orderBy('count')\n",
    "asia_count.sort(\"count\", ascending=False).show(10)"
   ]
  },
  {
   "cell_type": "code",
   "execution_count": 99,
   "id": "26accec1-8662-4ac8-8704-1ea443feb57f",
   "metadata": {},
   "outputs": [
    {
     "name": "stdout",
     "output_type": "stream",
     "text": [
      "+------------+----------+-------------+------+---+--------------+--------------------+--------------------+----------------+-----------------+----------+--------------+---------------+--------------------+-------------+\n",
      "|Passenger ID|First Name|    Last Name|Gender|Age|   Nationality|        Airport Name|Airport Country Code|    Country Name|Airport Continent|Continents|Departure Date|Arrival Airport|          Pilot Name|Flight Status|\n",
      "+------------+----------+-------------+------+---+--------------+--------------------+--------------------+----------------+-----------------+----------+--------------+---------------+--------------------+-------------+\n",
      "|       58109|  Catriona|     Beaument|Female| 77|        Russia|       Cudal Airport|                  AU|       Australia|               OC|   Oceania|     3/24/2022|            CUG|   Catriona Beaument|      Delayed|\n",
      "|       30642|  Magdalen|      Claiden|Female| 14|         China|Faleolo Internati...|                  WS|           Samoa|               OC|   Oceania|     7/22/2022|            APW|    Magdalen Claiden|      Delayed|\n",
      "|       99480|    Murvyn|         Duff|  Male| 19|       Germany|      Nesson Airport|                  NC|   New Caledonia|               OC|   Oceania|     3/25/2022|            HLU|         Murvyn Duff|    Cancelled|\n",
      "|       90756|  Gardiner|    Ferbrache|  Male|  9|        Sweden|       Gora Airstrip|                  PG|Papua New Guinea|               OC|   Oceania|     6/25/2022|            GOC|  Gardiner Ferbrache|      On Time|\n",
      "|       58677|       Dun|    Craythorn|  Male| 32|         China|        Moki Airport|                  PG|Papua New Guinea|               OC|   Oceania|    12/21/2022|            MJJ|       Dun Craythorn|    Cancelled|\n",
      "|       75426|     Dasha|       Eppson|Female| 37|     Indonesia|  Bairnsdale Airport|                  AU|       Australia|               OC|   Oceania|     1/11/2022|            BSJ|        Dasha Eppson|      On Time|\n",
      "|       22827|    Ransom|  Chippindale|  Male| 54|          Peru|    Minlaton Airport|                  AU|       Australia|               OC|   Oceania|    12/15/2022|            XML|  Ransom Chippindale|      On Time|\n",
      "|       89925|    Willie|   Netherwood|  Male| 85|        Russia|     Kavieng Airport|                  PG|Papua New Guinea|               OC|   Oceania|     6/22/2022|            KVG|   Willie Netherwood|      On Time|\n",
      "|       11983|  Chrotoem|        Abels|  Male| 62|        Russia|Port Lincoln Airport|                  AU|       Australia|               OC|   Oceania|      3/6/2022|            PLO|      Chrotoem Abels|      On Time|\n",
      "|       44556|     Tamas|     Vigneron|  Male| 58|          Mali|Diamantina Lakes ...|                  AU|       Australia|               OC|   Oceania|    11/23/2022|            DYM|      Tamas Vigneron|      Delayed|\n",
      "|       63026|    Joeann|     Gotcliff|Female| 77|    Kyrgyzstan| Badu Island Airport|                  AU|       Australia|               OC|   Oceania|    11/24/2022|            BDD|     Joeann Gotcliff|      Delayed|\n",
      "|       39602|   Natalya|       Offner|Female| 23|Czech Republic|South Galway Airport|                  AU|       Australia|               OC|   Oceania|    11/10/2022|            ZGL|      Natalya Offner|    Cancelled|\n",
      "|       15441|   Genevra|Shipperbottom|Female| 41|      Ethiopia|       Doini Airport|                  PG|Papua New Guinea|               OC|   Oceania|      7/6/2022|            DOI|Genevra Shipperbo...|      On Time|\n",
      "|       49845|     Frank|   Greenhough|  Male| 52|   Philippines|Mururoa Atoll Air...|                  PF|French Polynesia|               OC|   Oceania|      2/6/2022|            UOA|    Frank Greenhough|      On Time|\n",
      "|       34176|     Piggy|        Hugle|  Male| 39|   Philippines|        Buka Airport|                  PG|Papua New Guinea|               OC|   Oceania|    10/29/2022|            BUA|         Piggy Hugle|      Delayed|\n",
      "|       52420|     Basil|        Canon|  Male| 18|      Portugal|Hatzfeldhaven Air...|                  PG|Papua New Guinea|               OC|   Oceania|     5/25/2022|            HAZ|         Basil Canon|    Cancelled|\n",
      "|       25323|      Care|      Kearton|  Male|  4|         Kenya|      Tapini Airport|                  PG|Papua New Guinea|               OC|   Oceania|     7/30/2022|            TPI|        Care Kearton|    Cancelled|\n",
      "|       34872|      Kurt|      Marling|  Male| 65|     Indonesia|         Mal Airport|                  PG|Papua New Guinea|               OC|   Oceania|    10/26/2022|            MMV|        Kurt Marling|      Delayed|\n",
      "|       64178|    Sergio|     Edmonson|  Male| 10|        Sweden|       Omora Airport|                  PG|Papua New Guinea|               OC|   Oceania|      8/1/2022|            OSE|     Sergio Edmonson|      On Time|\n",
      "|       52463|     Kelsy|       Danhel|Female| 21|     Indonesia|      Pureni Airport|                  PG|Papua New Guinea|               OC|   Oceania|     8/15/2022|            PUI|        Kelsy Danhel|      Delayed|\n",
      "+------------+----------+-------------+------+---+--------------+--------------------+--------------------+----------------+-----------------+----------+--------------+---------------+--------------------+-------------+\n",
      "only showing top 20 rows\n",
      "\n"
     ]
    }
   ],
   "source": [
    "oceania=df.filter(df.Continents =='Oceania') #.count()\n",
    "oceania.show(truncate = True)"
   ]
  },
  {
   "cell_type": "code",
   "execution_count": 100,
   "id": "19a53dd8-c0f0-4e07-aef9-7c04eafaa9fc",
   "metadata": {},
   "outputs": [
    {
     "name": "stdout",
     "output_type": "stream",
     "text": [
      "+-------------+-----+\n",
      "|Flight Status|count|\n",
      "+-------------+-----+\n",
      "|      Delayed| 4634|\n",
      "|    Cancelled| 4619|\n",
      "|      On Time| 4613|\n",
      "+-------------+-----+\n",
      "\n"
     ]
    }
   ],
   "source": [
    "oceania_count = oceania.groupBy('Flight Status').count() #.orderBy('count')\n",
    "oceania_count.sort(\"count\", ascending=False).show(10)"
   ]
  },
  {
   "cell_type": "code",
   "execution_count": 101,
   "id": "f0b3a155-aede-468a-b587-c711a97847ee",
   "metadata": {},
   "outputs": [
    {
     "data": {
      "text/plain": [
       "[('Passenger ID', 'string'),\n",
       " ('First Name', 'string'),\n",
       " ('Last Name', 'string'),\n",
       " ('Gender', 'string'),\n",
       " ('Age', 'string'),\n",
       " ('Nationality', 'string'),\n",
       " ('Airport Name', 'string'),\n",
       " ('Airport Country Code', 'string'),\n",
       " ('Country Name', 'string'),\n",
       " ('Airport Continent', 'string'),\n",
       " ('Continents', 'string'),\n",
       " ('Departure Date', 'string'),\n",
       " ('Arrival Airport', 'string'),\n",
       " ('Pilot Name', 'string'),\n",
       " ('Flight Status', 'string')]"
      ]
     },
     "execution_count": 101,
     "metadata": {},
     "output_type": "execute_result"
    }
   ],
   "source": [
    "df.dtypes"
   ]
  },
  {
   "cell_type": "code",
   "execution_count": 102,
   "id": "45a29369-bd46-4327-a000-c4e314df3480",
   "metadata": {},
   "outputs": [
    {
     "name": "stdout",
     "output_type": "stream",
     "text": [
      "root\n",
      " |-- Passenger ID: string (nullable = true)\n",
      " |-- First Name: string (nullable = true)\n",
      " |-- Last Name: string (nullable = true)\n",
      " |-- Gender: string (nullable = true)\n",
      " |-- Age: string (nullable = true)\n",
      " |-- Nationality: string (nullable = true)\n",
      " |-- Airport Name: string (nullable = true)\n",
      " |-- Airport Country Code: string (nullable = true)\n",
      " |-- Country Name: string (nullable = true)\n",
      " |-- Airport Continent: string (nullable = true)\n",
      " |-- Continents: string (nullable = true)\n",
      " |-- Departure Date: timestamp (nullable = true)\n",
      " |-- Arrival Airport: string (nullable = true)\n",
      " |-- Pilot Name: string (nullable = true)\n",
      " |-- Flight Status: string (nullable = true)\n",
      "\n"
     ]
    }
   ],
   "source": [
    "spark.sql(\"set spark.sql.legacy.timeParserPolicy=LEGACY\")\n",
    "#df.withColumn(\"date\", to_date(col(\"InvoiceDate\"), \"MM/dd/yyyy\")).show()\n",
    "\n",
    "from pyspark.sql.functions import to_date, col, to_timestamp, dayofweek,dayofmonth, month\n",
    "df1 = df.withColumn(\"Departure Date\", to_timestamp(col(\"Departure Date\"), \"MM/dd/yyyy\"))\n",
    "df1.printSchema()"
   ]
  },
  {
   "cell_type": "code",
   "execution_count": 103,
   "id": "47517e9c-37d6-4735-8b19-e8689a895c33",
   "metadata": {},
   "outputs": [
    {
     "data": {
      "text/plain": [
       "['Passenger ID',\n",
       " 'First Name',\n",
       " 'Last Name',\n",
       " 'Gender',\n",
       " 'Age',\n",
       " 'Nationality',\n",
       " 'Airport Name',\n",
       " 'Airport Country Code',\n",
       " 'Country Name',\n",
       " 'Airport Continent',\n",
       " 'Continents',\n",
       " 'Departure Date',\n",
       " 'Arrival Airport',\n",
       " 'Pilot Name',\n",
       " 'Flight Status']"
      ]
     },
     "execution_count": 103,
     "metadata": {},
     "output_type": "execute_result"
    }
   ],
   "source": [
    "df1.columns"
   ]
  },
  {
   "cell_type": "code",
   "execution_count": 104,
   "id": "a6d70d2e-40f3-408c-a9dd-f219b2a658c3",
   "metadata": {},
   "outputs": [
    {
     "name": "stdout",
     "output_type": "stream",
     "text": [
      "+------------+----------+--------------+------+---+--------------------+--------------------+--------------------+--------------------+-----------------+-------------+-------------------+---------------+-------------------+-------------+\n",
      "|Passenger ID|First Name|     Last Name|Gender|Age|         Nationality|        Airport Name|Airport Country Code|        Country Name|Airport Continent|   Continents|     Departure Date|Arrival Airport|         Pilot Name|Flight Status|\n",
      "+------------+----------+--------------+------+---+--------------------+--------------------+--------------------+--------------------+-----------------+-------------+-------------------+---------------+-------------------+-------------+\n",
      "|       10856|    Edithe|        Leggis|Female| 62|               Japan|    Coldfoot Airport|                  US|       United States|              NAM|North America|2022-06-28 00:00:00|            CXF|      Edithe Leggis|      On Time|\n",
      "|       43872|    Elwood|          Catt|  Male| 62|           Nicaragua|   Kugluktuk Airport|                  CA|              Canada|              NAM|North America|2022-12-26 00:00:00|            YCO|        Elwood Catt|      On Time|\n",
      "|       42633|     Darby|       Felgate|  Male| 67|              Russia|Grenoble-Isère Ai...|                  FR|              France|               EU|       Europe|2022-01-18 00:00:00|            GNB|      Darby Felgate|      On Time|\n",
      "|       78493|  Dominica|          Pyle|Female| 71|               China|Ottawa / Gatineau...|                  CA|              Canada|              NAM|North America|2022-09-16 00:00:00|            YND|      Dominica Pyle|      Delayed|\n",
      "|       82072|       Bay|       Pencost|  Male| 21|               China|     Gillespie Field|                  US|       United States|              NAM|North America|2022-02-25 00:00:00|            SEE|        Bay Pencost|      On Time|\n",
      "|       39630|      Lora|       Durbann|Female| 55|              Brazil|Coronel Horácio d...|                  BR|              Brazil|              SAM|South America|2022-06-10 00:00:00|            LEC|       Lora Durbann|      On Time|\n",
      "|       11940|      Rand|          Bram|  Male| 73|         Ivory Coast|   Duxford Aerodrome|                  GB|      United Kingdom|               EU|       Europe|2022-10-30 00:00:00|            QFO|          Rand Bram|    Cancelled|\n",
      "|       26470|  Perceval|      Dallosso|  Male| 36|             Vietnam|Maestro Wilson Fo...|                  BR|              Brazil|              SAM|South America|2022-04-07 00:00:00|            STM|  Perceval Dallosso|    Cancelled|\n",
      "|       29447|     Aleda|        Pigram|Female| 35|Palestinian Terri...|Venice Marco Polo...|                  IT|               Italy|               EU|       Europe|2022-08-20 00:00:00|            VCE|       Aleda Pigram|      On Time|\n",
      "|       75035|    Burlie|       Schustl|  Male| 13|            Thailand|   Vermilion Airport|                  CA|              Canada|              NAM|North America|2022-04-06 00:00:00|            YVG|     Burlie Schustl|      On Time|\n",
      "|       29278|     Porty|          Jori|  Male| 39|             Tunisia|Nuevo Casas Grand...|                  MX|              Mexico|              NAM|North America|2022-05-27 00:00:00|            NCG|         Porty Jori|    Cancelled|\n",
      "|       90106|    Briant|    De La Haye|  Male| 71|              Russia| Ruben Cantu Airport|                  PA|              Panama|              NAM|North America|2022-02-06 00:00:00|            SYP|  Briant De La Haye|      Delayed|\n",
      "|       19631|     Kalie|        Scoble|Female| 47|              Sweden|     Loralai Airport|                  PK|            Pakistan|               AS|         Asia|2022-03-19 00:00:00|            LRG|       Kalie Scoble|      Delayed|\n",
      "|       58109|  Catriona|      Beaument|Female| 77|              Russia|       Cudal Airport|                  AU|           Australia|               OC|      Oceania|2022-03-24 00:00:00|            CUG|  Catriona Beaument|      Delayed|\n",
      "|       53524|   Amberly|      Handling|Female| 32|               China|Farmington Region...|                  US|       United States|              NAM|North America|2022-03-07 00:00:00|            FAM|   Amberly Handling|      Delayed|\n",
      "|       22064|      Dyna|De'Vere - Hunt|Female| 22|               China|  Oudtshoorn Airport|                  ZA|        South Africa|               AF|       Africa|2022-07-18 00:00:00|            OUH|Dyna De'Vere - Hunt|    Cancelled|\n",
      "|       12874|   Janella|      Hardaker|Female| 28|            Colombia|      Zaraza Airport|                  VE|Venezuela, Boliva...|              SAM|South America|2022-09-23 00:00:00|            ZRZ|   Janella Hardaker|      On Time|\n",
      "|       39783|     Alvin|        Wenzel|  Male| 12|              Greece|       Enshi Airport|                  CN|               China|               AS|         Asia|2022-03-29 00:00:00|            ENH|       Alvin Wenzel|      Delayed|\n",
      "|       15461|   Jerrine|       Peeters|Female| 87|         Philippines|    Thompson Airport|                  CA|              Canada|              NAM|North America|2022-11-03 00:00:00|            YTH|    Jerrine Peeters|    Cancelled|\n",
      "|       97649|    Warner|       Driutti|  Male| 62|               China|Guilin Liangjiang...|                  CN|               China|               AS|         Asia|2022-09-05 00:00:00|            KWL|     Warner Driutti|    Cancelled|\n",
      "+------------+----------+--------------+------+---+--------------------+--------------------+--------------------+--------------------+-----------------+-------------+-------------------+---------------+-------------------+-------------+\n",
      "only showing top 20 rows\n",
      "\n"
     ]
    }
   ],
   "source": [
    "#from pyspark.sql.functions import to_date, col, to_timestamp, to_date\n",
    "#df1 = df.withColumn(\"Departure Date\", to_date(col(\"Departure Date\"), \"MM-dd-yyyy\"))\n",
    "#df1.printSchema()\n",
    "#df1 = df.select(to_date(\"Departure Date\", 'yyyy-MM-dd').alias('dt'))\n",
    "#print df1\n",
    "df1.show()"
   ]
  },
  {
   "cell_type": "code",
   "execution_count": 105,
   "id": "513ccdf2-4886-44f2-b43c-5bc60ea9a5f5",
   "metadata": {},
   "outputs": [
    {
     "name": "stdout",
     "output_type": "stream",
     "text": [
      "+-------------------+\n",
      "|     Departure Date|\n",
      "+-------------------+\n",
      "|2022-06-28 00:00:00|\n",
      "|2022-12-26 00:00:00|\n",
      "|2022-01-18 00:00:00|\n",
      "|2022-09-16 00:00:00|\n",
      "|2022-02-25 00:00:00|\n",
      "|2022-06-10 00:00:00|\n",
      "|2022-10-30 00:00:00|\n",
      "|2022-04-07 00:00:00|\n",
      "|2022-08-20 00:00:00|\n",
      "|2022-04-06 00:00:00|\n",
      "|2022-05-27 00:00:00|\n",
      "|2022-02-06 00:00:00|\n",
      "|2022-03-19 00:00:00|\n",
      "|2022-03-24 00:00:00|\n",
      "|2022-03-07 00:00:00|\n",
      "|2022-07-18 00:00:00|\n",
      "|2022-09-23 00:00:00|\n",
      "|2022-03-29 00:00:00|\n",
      "|2022-11-03 00:00:00|\n",
      "|2022-09-05 00:00:00|\n",
      "+-------------------+\n",
      "only showing top 20 rows\n",
      "\n"
     ]
    }
   ],
   "source": [
    "df1.select(\"Departure Date\").show()"
   ]
  },
  {
   "cell_type": "code",
   "execution_count": 106,
   "id": "b83bcfa5-e458-457a-b08f-d7bd422e5178",
   "metadata": {},
   "outputs": [
    {
     "name": "stdout",
     "output_type": "stream",
     "text": [
      "+-----------+\n",
      "|Day_of_Week|\n",
      "+-----------+\n",
      "|          3|\n",
      "|          2|\n",
      "|          3|\n",
      "|          6|\n",
      "|          6|\n",
      "|          6|\n",
      "|          1|\n",
      "|          5|\n",
      "|          7|\n",
      "|          4|\n",
      "|          6|\n",
      "|          1|\n",
      "|          7|\n",
      "|          5|\n",
      "|          2|\n",
      "|          2|\n",
      "|          6|\n",
      "|          3|\n",
      "|          5|\n",
      "|          2|\n",
      "+-----------+\n",
      "only showing top 20 rows\n",
      "\n"
     ]
    }
   ],
   "source": [
    "#df['Departure Date'] = pd.to_datetime(df['Departure Date'])\n",
    "#df['Day_of_Week'] = df['Departure Date'].dt.dayofweek\n",
    "#df['Month'] = df['Departure Date'].dt.month\n",
    "#df\n",
    "df2 = df1.withColumn(\"Day_of_Week\", dayofweek(col(\"Departure Date\")))\n",
    "df2.select(\"Day_of_Week\").show()"
   ]
  },
  {
   "cell_type": "code",
   "execution_count": 107,
   "id": "840535a2-ff5e-4bc7-88f9-065b44e9834f",
   "metadata": {},
   "outputs": [
    {
     "data": {
      "text/plain": [
       "['Passenger ID',\n",
       " 'First Name',\n",
       " 'Last Name',\n",
       " 'Gender',\n",
       " 'Age',\n",
       " 'Nationality',\n",
       " 'Airport Name',\n",
       " 'Airport Country Code',\n",
       " 'Country Name',\n",
       " 'Airport Continent',\n",
       " 'Continents',\n",
       " 'Departure Date',\n",
       " 'Arrival Airport',\n",
       " 'Pilot Name',\n",
       " 'Flight Status',\n",
       " 'Day_of_Week']"
      ]
     },
     "execution_count": 107,
     "metadata": {},
     "output_type": "execute_result"
    }
   ],
   "source": [
    "df2.columns"
   ]
  },
  {
   "cell_type": "code",
   "execution_count": 108,
   "id": "01d82e69-d178-4e6e-b718-e0dcf10d710a",
   "metadata": {},
   "outputs": [
    {
     "name": "stdout",
     "output_type": "stream",
     "text": [
      "+-----+\n",
      "|Month|\n",
      "+-----+\n",
      "|    6|\n",
      "|   12|\n",
      "|    1|\n",
      "|    9|\n",
      "|    2|\n",
      "|    6|\n",
      "|   10|\n",
      "|    4|\n",
      "|    8|\n",
      "|    4|\n",
      "|    5|\n",
      "|    2|\n",
      "|    3|\n",
      "|    3|\n",
      "|    3|\n",
      "|    7|\n",
      "|    9|\n",
      "|    3|\n",
      "|   11|\n",
      "|    9|\n",
      "+-----+\n",
      "only showing top 20 rows\n",
      "\n"
     ]
    }
   ],
   "source": [
    "df3 = df2.withColumn(\"Month\", month(col(\"Departure Date\")))\n",
    "df3.select(\"Month\").show()"
   ]
  },
  {
   "cell_type": "code",
   "execution_count": 109,
   "id": "58182dc3-e961-4482-8c49-89bbe0b59ea4",
   "metadata": {},
   "outputs": [
    {
     "data": {
      "text/plain": [
       "['Passenger ID',\n",
       " 'First Name',\n",
       " 'Last Name',\n",
       " 'Gender',\n",
       " 'Age',\n",
       " 'Nationality',\n",
       " 'Airport Name',\n",
       " 'Airport Country Code',\n",
       " 'Country Name',\n",
       " 'Airport Continent',\n",
       " 'Continents',\n",
       " 'Departure Date',\n",
       " 'Arrival Airport',\n",
       " 'Pilot Name',\n",
       " 'Flight Status',\n",
       " 'Day_of_Week',\n",
       " 'Month']"
      ]
     },
     "execution_count": 109,
     "metadata": {},
     "output_type": "execute_result"
    }
   ],
   "source": [
    "df3.columns"
   ]
  },
  {
   "cell_type": "code",
   "execution_count": 110,
   "id": "c8f0a736-3fce-421b-99ab-95d951044ec3",
   "metadata": {},
   "outputs": [
    {
     "name": "stdout",
     "output_type": "stream",
     "text": [
      "+-----------+\n",
      "|Day_of_Week|\n",
      "+-----------+\n",
      "|          1|\n",
      "|          6|\n",
      "|          3|\n",
      "|          5|\n",
      "|          4|\n",
      "|          7|\n",
      "|          2|\n",
      "+-----------+\n",
      "\n"
     ]
    }
   ],
   "source": [
    "df3.select(\"Day_of_Week\").distinct().show()"
   ]
  },
  {
   "cell_type": "code",
   "execution_count": 111,
   "id": "1bcfedb8-1d2e-417b-a77f-1665888c56c7",
   "metadata": {},
   "outputs": [
    {
     "data": {
      "text/plain": [
       "[('Passenger ID', 'string'),\n",
       " ('First Name', 'string'),\n",
       " ('Last Name', 'string'),\n",
       " ('Gender', 'string'),\n",
       " ('Age', 'string'),\n",
       " ('Nationality', 'string'),\n",
       " ('Airport Name', 'string'),\n",
       " ('Airport Country Code', 'string'),\n",
       " ('Country Name', 'string'),\n",
       " ('Airport Continent', 'string'),\n",
       " ('Continents', 'string'),\n",
       " ('Departure Date', 'timestamp'),\n",
       " ('Arrival Airport', 'string'),\n",
       " ('Pilot Name', 'string'),\n",
       " ('Flight Status', 'string'),\n",
       " ('Day_of_Week', 'int'),\n",
       " ('Month', 'int')]"
      ]
     },
     "execution_count": 111,
     "metadata": {},
     "output_type": "execute_result"
    }
   ],
   "source": [
    "df3.dtypes"
   ]
  },
  {
   "cell_type": "code",
   "execution_count": 112,
   "id": "4fc6aa6b-c13f-4e8a-9c4f-045824d45dee",
   "metadata": {},
   "outputs": [
    {
     "name": "stdout",
     "output_type": "stream",
     "text": [
      "+--------------------+--------------------+-----------------+-----------+-----+-------------+\n",
      "|        Airport Name|        Country Name|Airport Continent|Day_of_Week|Month|Flight Status|\n",
      "+--------------------+--------------------+-----------------+-----------+-----+-------------+\n",
      "|    Coldfoot Airport|       United States|              NAM|          3|    6|      On Time|\n",
      "|   Kugluktuk Airport|              Canada|              NAM|          2|   12|      On Time|\n",
      "|Grenoble-Isère Ai...|              France|               EU|          3|    1|      On Time|\n",
      "|Ottawa / Gatineau...|              Canada|              NAM|          6|    9|      Delayed|\n",
      "|     Gillespie Field|       United States|              NAM|          6|    2|      On Time|\n",
      "|Coronel Horácio d...|              Brazil|              SAM|          6|    6|      On Time|\n",
      "|   Duxford Aerodrome|      United Kingdom|               EU|          1|   10|    Cancelled|\n",
      "|Maestro Wilson Fo...|              Brazil|              SAM|          5|    4|    Cancelled|\n",
      "|Venice Marco Polo...|               Italy|               EU|          7|    8|      On Time|\n",
      "|   Vermilion Airport|              Canada|              NAM|          4|    4|      On Time|\n",
      "|Nuevo Casas Grand...|              Mexico|              NAM|          6|    5|    Cancelled|\n",
      "| Ruben Cantu Airport|              Panama|              NAM|          1|    2|      Delayed|\n",
      "|     Loralai Airport|            Pakistan|               AS|          7|    3|      Delayed|\n",
      "|       Cudal Airport|           Australia|               OC|          5|    3|      Delayed|\n",
      "|Farmington Region...|       United States|              NAM|          2|    3|      Delayed|\n",
      "|  Oudtshoorn Airport|        South Africa|               AF|          2|    7|    Cancelled|\n",
      "|      Zaraza Airport|Venezuela, Boliva...|              SAM|          6|    9|      On Time|\n",
      "|       Enshi Airport|               China|               AS|          3|    3|      Delayed|\n",
      "|    Thompson Airport|              Canada|              NAM|          5|   11|    Cancelled|\n",
      "|Guilin Liangjiang...|               China|               AS|          2|    9|    Cancelled|\n",
      "+--------------------+--------------------+-----------------+-----------+-----+-------------+\n",
      "only showing top 20 rows\n",
      "\n"
     ]
    }
   ],
   "source": [
    "features = ['Airport Name', 'Country Name', 'Airport Continent', 'Day_of_Week', 'Month', 'Flight Status']\n",
    "X = df3.select(features)\n",
    "#X = df3.withColumn(features, col(features))\n",
    "X.show()\n",
    "#df3[features].copy()"
   ]
  },
  {
   "cell_type": "code",
   "execution_count": 113,
   "id": "cd11317e-9afc-447d-82f8-5c72100fd142",
   "metadata": {},
   "outputs": [
    {
     "name": "stdout",
     "output_type": "stream",
     "text": [
      "+--------------------+--------------------+-----------------+-----------+-----+-------------+-----------------+-----------------+----------------------+-----------------+-----------+\n",
      "|        Airport Name|        Country Name|Airport Continent|Day_of_Week|Month|Flight Status|AirportName_label|CountryName_label|AirportContinent_label|Day_of_Week_label|Month_label|\n",
      "+--------------------+--------------------+-----------------+-----------+-----+-------------+-----------------+-----------------+----------------------+-----------------+-----------+\n",
      "|    Coldfoot Airport|       United States|              NAM|          3|    6|            0|           3801.0|              0.0|                   0.0|              3.0|        7.0|\n",
      "|   Kugluktuk Airport|              Canada|              NAM|          2|   12|            0|           6260.0|              2.0|                   0.0|              4.0|       10.0|\n",
      "|Grenoble-Isère Ai...|              France|               EU|          3|    1|            0|            971.0|             10.0|                   3.0|              3.0|        4.0|\n",
      "|Ottawa / Gatineau...|              Canada|              NAM|          6|    9|            1|           8065.0|              2.0|                   0.0|              2.0|        6.0|\n",
      "|     Gillespie Field|       United States|              NAM|          6|    2|            0|           3920.0|              0.0|                   0.0|              2.0|       11.0|\n",
      "|Coronel Horácio d...|              Brazil|              SAM|          6|    6|            0|           3815.0|              3.0|                   5.0|              2.0|        7.0|\n",
      "|   Duxford Aerodrome|      United Kingdom|               EU|          1|   10|            0|           8390.0|             11.0|                   3.0|              0.0|        5.0|\n",
      "|Maestro Wilson Fo...|              Brazil|              SAM|          5|    4|            0|           3156.0|              3.0|                   5.0|              1.0|        9.0|\n",
      "|Venice Marco Polo...|               Italy|               EU|          7|    8|            0|            796.0|             24.0|                   3.0|              6.0|        0.0|\n",
      "|   Vermilion Airport|              Canada|              NAM|          4|    4|            0|           4576.0|              2.0|                   0.0|              5.0|        9.0|\n",
      "|Nuevo Casas Grand...|              Mexico|              NAM|          6|    5|            0|           7339.0|             14.0|                   0.0|              2.0|        1.0|\n",
      "| Ruben Cantu Airport|              Panama|              NAM|          1|    2|            1|           2507.0|             43.0|                   0.0|              0.0|       11.0|\n",
      "|     Loralai Airport|            Pakistan|               AS|          7|    3|            1|           3143.0|             20.0|                   1.0|              6.0|        3.0|\n",
      "|       Cudal Airport|           Australia|               OC|          5|    3|            1|           6001.0|              1.0|                   2.0|              1.0|        3.0|\n",
      "|Farmington Region...|       United States|              NAM|          2|    3|            1|           2934.0|              0.0|                   0.0|              4.0|        3.0|\n",
      "|  Oudtshoorn Airport|        South Africa|               AF|          2|    7|            0|           3279.0|             16.0|                   4.0|              4.0|        2.0|\n",
      "|      Zaraza Airport|Venezuela, Boliva...|              SAM|          6|    9|            0|             20.0|             19.0|                   5.0|              2.0|        6.0|\n",
      "|       Enshi Airport|               China|               AS|          3|    3|            1|           2919.0|              5.0|                   1.0|              3.0|        3.0|\n",
      "|    Thompson Airport|              Canada|              NAM|          5|   11|            0|           8640.0|              2.0|                   0.0|              1.0|        8.0|\n",
      "|Guilin Liangjiang...|               China|               AS|          2|    9|            0|           8421.0|              5.0|                   1.0|              4.0|        6.0|\n",
      "+--------------------+--------------------+-----------------+-----------+-----+-------------+-----------------+-----------------+----------------------+-----------------+-----------+\n",
      "only showing top 20 rows\n",
      "\n"
     ]
    }
   ],
   "source": [
    "from pyspark.ml.feature import StringIndexer\n",
    "from pyspark.sql import functions as F\n",
    "inputs = ['Airport Name', 'Country Name', 'Airport Continent', 'Day_of_Week', 'Month']\n",
    "outputs = ['AirportName_label', 'CountryName_label', 'AirportContinent_label', 'Day_of_Week_label', 'Month_label']\n",
    "indexer = StringIndexer(inputCols=inputs, outputCols=outputs) \n",
    "X = indexer.fit(X).transform(X)\n",
    "X = X.withColumn(\"Flight Status\", F.when(col(\"Flight Status\") == 'Delayed', 1).otherwise(0))\n",
    "#indexed_df=indexed_df.drop(\"City\").withColumnRenamed(\"City_label\",\"City\")\n",
    "X.show()"
   ]
  },
  {
   "cell_type": "code",
   "execution_count": 114,
   "id": "fa435d79-4a3d-4656-9400-dec2ac23adaa",
   "metadata": {},
   "outputs": [
    {
     "name": "stdout",
     "output_type": "stream",
     "text": [
      "+-------------+-----------------+-----------------+----------------------+-----------------+-----------+\n",
      "|Flight Status|AirportName_label|CountryName_label|AirportContinent_label|Day_of_Week_label|Month_label|\n",
      "+-------------+-----------------+-----------------+----------------------+-----------------+-----------+\n",
      "|            0|           3801.0|              0.0|                   0.0|              3.0|        7.0|\n",
      "|            0|           6260.0|              2.0|                   0.0|              4.0|       10.0|\n",
      "|            0|            971.0|             10.0|                   3.0|              3.0|        4.0|\n",
      "|            1|           8065.0|              2.0|                   0.0|              2.0|        6.0|\n",
      "|            0|           3920.0|              0.0|                   0.0|              2.0|       11.0|\n",
      "|            0|           3815.0|              3.0|                   5.0|              2.0|        7.0|\n",
      "|            0|           8390.0|             11.0|                   3.0|              0.0|        5.0|\n",
      "|            0|           3156.0|              3.0|                   5.0|              1.0|        9.0|\n",
      "|            0|            796.0|             24.0|                   3.0|              6.0|        0.0|\n",
      "|            0|           4576.0|              2.0|                   0.0|              5.0|        9.0|\n",
      "|            0|           7339.0|             14.0|                   0.0|              2.0|        1.0|\n",
      "|            1|           2507.0|             43.0|                   0.0|              0.0|       11.0|\n",
      "|            1|           3143.0|             20.0|                   1.0|              6.0|        3.0|\n",
      "|            1|           6001.0|              1.0|                   2.0|              1.0|        3.0|\n",
      "|            1|           2934.0|              0.0|                   0.0|              4.0|        3.0|\n",
      "|            0|           3279.0|             16.0|                   4.0|              4.0|        2.0|\n",
      "|            0|             20.0|             19.0|                   5.0|              2.0|        6.0|\n",
      "|            1|           2919.0|              5.0|                   1.0|              3.0|        3.0|\n",
      "|            0|           8640.0|              2.0|                   0.0|              1.0|        8.0|\n",
      "|            0|           8421.0|              5.0|                   1.0|              4.0|        6.0|\n",
      "+-------------+-----------------+-----------------+----------------------+-----------------+-----------+\n",
      "only showing top 20 rows\n",
      "\n"
     ]
    }
   ],
   "source": [
    "cols = ('Airport Name', 'Country Name', 'Airport Continent', 'Day_of_Week', 'Month')\n",
    "X1 = X.drop(*cols)\n",
    "X1.show()"
   ]
  },
  {
   "cell_type": "code",
   "execution_count": 115,
   "id": "fa79038d-b70e-49c5-85b1-8f7b2ecbf099",
   "metadata": {},
   "outputs": [
    {
     "name": "stdout",
     "output_type": "stream",
     "text": [
      "+-------------+-----------------+-----------------+----------------------+-----------------+-----------+--------------------+\n",
      "|Flight Status|AirportName_label|CountryName_label|AirportContinent_label|Day_of_Week_label|Month_label|            features|\n",
      "+-------------+-----------------+-----------------+----------------------+-----------------+-----------+--------------------+\n",
      "|            0|           3801.0|              0.0|                   0.0|              3.0|        7.0|[3801.0,0.0,0.0,3...|\n",
      "|            0|           6260.0|              2.0|                   0.0|              4.0|       10.0|[6260.0,2.0,0.0,4...|\n",
      "|            0|            971.0|             10.0|                   3.0|              3.0|        4.0|[971.0,10.0,3.0,3...|\n",
      "|            1|           8065.0|              2.0|                   0.0|              2.0|        6.0|[8065.0,2.0,0.0,2...|\n",
      "|            0|           3920.0|              0.0|                   0.0|              2.0|       11.0|[3920.0,0.0,0.0,2...|\n",
      "|            0|           3815.0|              3.0|                   5.0|              2.0|        7.0|[3815.0,3.0,5.0,2...|\n",
      "|            0|           8390.0|             11.0|                   3.0|              0.0|        5.0|[8390.0,11.0,3.0,...|\n",
      "|            0|           3156.0|              3.0|                   5.0|              1.0|        9.0|[3156.0,3.0,5.0,1...|\n",
      "|            0|            796.0|             24.0|                   3.0|              6.0|        0.0|[796.0,24.0,3.0,6...|\n",
      "|            0|           4576.0|              2.0|                   0.0|              5.0|        9.0|[4576.0,2.0,0.0,5...|\n",
      "|            0|           7339.0|             14.0|                   0.0|              2.0|        1.0|[7339.0,14.0,0.0,...|\n",
      "|            1|           2507.0|             43.0|                   0.0|              0.0|       11.0|[2507.0,43.0,0.0,...|\n",
      "|            1|           3143.0|             20.0|                   1.0|              6.0|        3.0|[3143.0,20.0,1.0,...|\n",
      "|            1|           6001.0|              1.0|                   2.0|              1.0|        3.0|[6001.0,1.0,2.0,1...|\n",
      "|            1|           2934.0|              0.0|                   0.0|              4.0|        3.0|[2934.0,0.0,0.0,4...|\n",
      "|            0|           3279.0|             16.0|                   4.0|              4.0|        2.0|[3279.0,16.0,4.0,...|\n",
      "|            0|             20.0|             19.0|                   5.0|              2.0|        6.0|[20.0,19.0,5.0,2....|\n",
      "|            1|           2919.0|              5.0|                   1.0|              3.0|        3.0|[2919.0,5.0,1.0,3...|\n",
      "|            0|           8640.0|              2.0|                   0.0|              1.0|        8.0|[8640.0,2.0,0.0,1...|\n",
      "|            0|           8421.0|              5.0|                   1.0|              4.0|        6.0|[8421.0,5.0,1.0,4...|\n",
      "+-------------+-----------------+-----------------+----------------------+-----------------+-----------+--------------------+\n",
      "only showing top 20 rows\n",
      "\n"
     ]
    }
   ],
   "source": [
    "#scaling features\n",
    "from pyspark.ml import Pipeline\n",
    "from pyspark.ml.feature import MinMaxScaler, VectorAssembler\n",
    "#from pyspark.ml.feature import VectorAssembler\n",
    "#columns_to_scale = ['AirportName_label', 'CountryName_label', 'AirportContinent_label', 'Day_of_Week_label', 'Month_label']\n",
    "#assemblers = [VectorAssembler(inputCols=[col], outputCol=col + \"_vec\") for col in columns_to_scale]\n",
    "#scalers = [MinMaxScaler(inputCol=col + \"_vec\", outputCol=col + \"_scaled\") for col in columns_to_scale]\n",
    "#pipeline = Pipeline(stages=assemblers + scalers)\n",
    "#scalerModel  = pipeline.fit(X1)\n",
    "assembler = VectorAssembler(inputCols=['AirportName_label', 'CountryName_label', 'AirportContinent_label', 'Day_of_Week_label', 'Month_label'], \n",
    "outputCol=\"features\")\n",
    "output = assembler.transform(X1)\n",
    "output.show()"
   ]
  },
  {
   "cell_type": "code",
   "execution_count": 116,
   "id": "8149bc05-6555-4809-a2a3-b89614bfc89f",
   "metadata": {},
   "outputs": [
    {
     "name": "stdout",
     "output_type": "stream",
     "text": [
      "+-------------+-----------------+-----------------+----------------------+-----------------+-----------+--------------------+--------------------+\n",
      "|Flight Status|AirportName_label|CountryName_label|AirportContinent_label|Day_of_Week_label|Month_label|            features|      scaledFeatures|\n",
      "+-------------+-----------------+-----------------+----------------------+-----------------+-----------+--------------------+--------------------+\n",
      "|            0|           3801.0|              0.0|                   0.0|              3.0|        7.0|[3801.0,0.0,0.0,3...|[0.41949012250303...|\n",
      "|            0|           6260.0|              2.0|                   0.0|              4.0|       10.0|[6260.0,2.0,0.0,4...|[0.69087297207813...|\n",
      "|            0|            971.0|             10.0|                   3.0|              3.0|        4.0|[971.0,10.0,3.0,3...|[0.10716256483831...|\n",
      "|            1|           8065.0|              2.0|                   0.0|              2.0|        6.0|[8065.0,2.0,0.0,2...|[0.89007835779715...|\n",
      "|            0|           3920.0|              0.0|                   0.0|              2.0|       11.0|[3920.0,0.0,0.0,2...|[0.43262333075819...|\n",
      "|            0|           3815.0|              3.0|                   5.0|              2.0|        7.0|[3815.0,3.0,5.0,2...|[0.42103520582717...|\n",
      "|            0|           8390.0|             11.0|                   3.0|              0.0|        5.0|[8390.0,11.0,3.0,...|[0.92594636353603...|\n",
      "|            0|           3156.0|              3.0|                   5.0|              1.0|        9.0|[3156.0,3.0,5.0,1...|[0.34830592649817...|\n",
      "|            0|            796.0|             24.0|                   3.0|              6.0|        0.0|[796.0,24.0,3.0,6...|[0.08784902328661...|\n",
      "|            0|           4576.0|              2.0|                   0.0|              5.0|        9.0|[4576.0,2.0,0.0,5...|[0.50502152080344...|\n",
      "|            0|           7339.0|             14.0|                   0.0|              2.0|        1.0|[7339.0,14.0,0.0,...|[0.80995475113122...|\n",
      "|            1|           2507.0|             43.0|                   0.0|              0.0|       11.0|[2507.0,43.0,0.0,...|[0.27668027811499...|\n",
      "|            1|           3143.0|             20.0|                   1.0|              6.0|        3.0|[3143.0,20.0,1.0,...|[0.34687120626862...|\n",
      "|            1|           6001.0|              1.0|                   2.0|              1.0|        3.0|[6001.0,1.0,2.0,1...|[0.66228893058161...|\n",
      "|            1|           2934.0|              0.0|                   0.0|              4.0|        3.0|[2934.0,0.0,0.0,4...|[0.32380531950115...|\n",
      "|            0|           3279.0|             16.0|                   4.0|              4.0|        2.0|[3279.0,16.0,4.0,...|[0.36188058713166...|\n",
      "|            0|             20.0|             19.0|                   5.0|              2.0|        6.0|[20.0,19.0,5.0,2....|[0.00220726189162...|\n",
      "|            1|           2919.0|              5.0|                   1.0|              3.0|        3.0|[2919.0,5.0,1.0,3...|[0.32214987308244...|\n",
      "|            0|           8640.0|              2.0|                   0.0|              1.0|        8.0|[8640.0,2.0,0.0,1...|[0.95353713718132...|\n",
      "|            0|           8421.0|              5.0|                   1.0|              4.0|        6.0|[8421.0,5.0,1.0,4...|[0.92936761946804...|\n",
      "+-------------+-----------------+-----------------+----------------------+-----------------+-----------+--------------------+--------------------+\n",
      "only showing top 20 rows\n",
      "\n"
     ]
    }
   ],
   "source": [
    "#3. Applying MinMaxScaler to your assembled features \n",
    "scaler = MinMaxScaler(inputCol=\"features\", outputCol=\"scaledFeatures\")\n",
    "# rescale each feature to range [min, max].\n",
    "scaledData = scaler.fit(output).transform(output)\n",
    "scaledData.show()"
   ]
  },
  {
   "cell_type": "code",
   "execution_count": 117,
   "id": "ca41c59f-ad41-466b-b0e1-e2f0a8603472",
   "metadata": {},
   "outputs": [],
   "source": [
    "from pyspark.ml import Pipeline\n",
    "from pyspark.ml.classification import DecisionTreeClassifier\n",
    "from pyspark.ml.feature import StringIndexer, VectorIndexer\n",
    "from pyspark.ml.evaluation import MulticlassClassificationEvaluator\n",
    "(trainingData, testData) = scaledData.randomSplit([0.7, 0.3])\n",
    "dt = DecisionTreeClassifier(labelCol=\"Flight Status\", featuresCol=\"scaledFeatures\")\n",
    "\n",
    "# Chain indexers and tree in a Pipeline\n",
    "pipeline = Pipeline(stages=[dt])\n",
    "\n",
    "# Train model.  This also runs the indexers.\n",
    "model = pipeline.fit(trainingData)\n",
    "\n",
    "# Make predictions.\n",
    "predictions = model.transform(testData)"
   ]
  },
  {
   "cell_type": "code",
   "execution_count": 118,
   "id": "dcd1cb84-8951-4bdd-88bd-ec84cb238c6f",
   "metadata": {},
   "outputs": [
    {
     "name": "stdout",
     "output_type": "stream",
     "text": [
      "+----------+-------------+--------------------+\n",
      "|prediction|Flight Status|      scaledFeatures|\n",
      "+----------+-------------+--------------------+\n",
      "|       0.0|            0|[0.0,0.3290598290...|\n",
      "|       0.0|            0|[0.0,0.3632478632...|\n",
      "|       0.0|            0|(5,[1,4],[0.46581...|\n",
      "|       0.0|            0|[1.10363094581172...|\n",
      "|       0.0|            0|[1.10363094581172...|\n",
      "+----------+-------------+--------------------+\n",
      "only showing top 5 rows\n",
      "\n"
     ]
    }
   ],
   "source": [
    "# Select example rows to display.\n",
    "predictions.select(\"prediction\", \"Flight Status\", \"scaledFeatures\").show(5)\n"
   ]
  },
  {
   "cell_type": "code",
   "execution_count": 119,
   "id": "b682fd6a-2eac-4571-b09d-77e1ac31ef15",
   "metadata": {},
   "outputs": [
    {
     "name": "stdout",
     "output_type": "stream",
     "text": [
      "Test Error = 0.336395 \n"
     ]
    }
   ],
   "source": [
    "#dt = DecisionTreeRegressor(featuresCol=\"scaledFeatures\")\n",
    "# Select (prediction, true label) and compute test error\n",
    "evaluator = MulticlassClassificationEvaluator(\n",
    "    labelCol=\"Flight Status\", predictionCol=\"prediction\", metricName=\"accuracy\")\n",
    "accuracy = evaluator.evaluate(predictions)\n",
    "print(\"Test Error = %g \" % (1.0 - accuracy))"
   ]
  },
  {
   "cell_type": "code",
   "execution_count": 120,
   "id": "c2c63d6d-72b1-4361-b82d-9c88b2a0605c",
   "metadata": {},
   "outputs": [
    {
     "name": "stdout",
     "output_type": "stream",
     "text": [
      "Model Accuracy is :  0.6636047414812063\n"
     ]
    }
   ],
   "source": [
    "print(\"Model Accuracy is : \", accuracy)"
   ]
  },
  {
   "cell_type": "code",
   "execution_count": null,
   "id": "beb458ff-363e-461a-81ec-f5c14c65dc1c",
   "metadata": {},
   "outputs": [],
   "source": []
  }
 ],
 "metadata": {
  "kernelspec": {
   "display_name": "Python 3 (ipykernel)",
   "language": "python",
   "name": "python3"
  },
  "language_info": {
   "codemirror_mode": {
    "name": "ipython",
    "version": 3
   },
   "file_extension": ".py",
   "mimetype": "text/x-python",
   "name": "python",
   "nbconvert_exporter": "python",
   "pygments_lexer": "ipython3",
   "version": "3.11.5"
  }
 },
 "nbformat": 4,
 "nbformat_minor": 5
}
