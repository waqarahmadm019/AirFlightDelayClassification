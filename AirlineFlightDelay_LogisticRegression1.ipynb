{
 "cells": [
  {
   "cell_type": "code",
   "execution_count": 1,
   "id": "13970497-83be-4fa8-80f7-bce629a846cd",
   "metadata": {},
   "outputs": [],
   "source": [
    "from pyspark.sql import SparkSession\n",
    "from pyspark.ml import Pipeline\n",
    "from pyspark.ml.classification import LogisticRegression\n",
    "from pyspark.ml.feature import StringIndexer, VectorIndexer\n",
    "from pyspark.ml.evaluation import MulticlassClassificationEvaluator\n",
    "spark = SparkSession \\\n",
    "    .builder \\\n",
    "    .appName(\"Airline Flight Delay Classification using Logistic Regression \") \\\n",
    "    .config(\"spark.some.config.option\", \"some-value\") \\\n",
    "    .getOrCreate()"
   ]
  },
  {
   "cell_type": "code",
   "execution_count": 2,
   "id": "47c6b295-fa41-4ec7-88c7-4937451a8dd0",
   "metadata": {},
   "outputs": [],
   "source": [
    "# read preprocessed parquet file.\n",
    "scaledData=spark.read.parquet(\"airline_dataset_processed.parquet\")\n"
   ]
  },
  {
   "cell_type": "code",
   "execution_count": 3,
   "id": "493cea90-7bcd-4d3a-85ea-f260852cf619",
   "metadata": {},
   "outputs": [
    {
     "name": "stdout",
     "output_type": "stream",
     "text": [
      "+--------------------+\n",
      "|      scaledFeatures|\n",
      "+--------------------+\n",
      "|[0.0,0.0,0.0,0.0,...|\n",
      "|[0.0,0.0,0.0,0.0,...|\n",
      "|[0.0,0.0,0.0,0.0,...|\n",
      "|[0.0,0.0,0.0,0.0,...|\n",
      "|[0.0,0.0,0.0,0.0,...|\n",
      "|[0.0,0.0,0.0,0.0,...|\n",
      "|[0.0,0.0,0.0,0.0,...|\n",
      "|[0.0,0.0,0.0,0.0,...|\n",
      "|[0.0,0.0,0.0,0.0,...|\n",
      "|[0.0,0.0,0.0,0.0,...|\n",
      "+--------------------+\n",
      "only showing top 10 rows\n",
      "\n"
     ]
    }
   ],
   "source": [
    "scaledData.select(\"scaledFeatures\").show(10)"
   ]
  },
  {
   "cell_type": "code",
   "execution_count": 4,
   "id": "fce86979-7b58-4e2f-adee-64fdd7749548",
   "metadata": {},
   "outputs": [
    {
     "data": {
      "text/plain": [
       "[Row(scaledFeatures=DenseVector([0.1371, 0.0214, 0.2, 1.0, 0.8182])),\n",
       " Row(scaledFeatures=DenseVector([0.0334, 0.0385, 0.2, 0.3333, 0.0])),\n",
       " Row(scaledFeatures=DenseVector([0.6828, 0.0769, 0.2, 0.6667, 0.6364])),\n",
       " Row(scaledFeatures=DenseVector([0.1579, 0.0, 0.0, 0.1667, 0.2727])),\n",
       " Row(scaledFeatures=DenseVector([0.7578, 0.2179, 0.2, 0.1667, 0.0909])),\n",
       " Row(scaledFeatures=DenseVector([0.6793, 0.1154, 0.6, 0.0, 0.9091])),\n",
       " Row(scaledFeatures=DenseVector([0.1404, 0.1068, 0.8, 0.0, 0.4545])),\n",
       " Row(scaledFeatures=DenseVector([0.2054, 0.1111, 0.6, 1.0, 0.5455])),\n",
       " Row(scaledFeatures=DenseVector([0.5497, 0.3291, 0.8, 0.8333, 0.4545])),\n",
       " Row(scaledFeatures=DenseVector([0.7508, 0.0299, 0.6, 1.0, 0.8182]))]"
      ]
     },
     "execution_count": 4,
     "metadata": {},
     "output_type": "execute_result"
    }
   ],
   "source": [
    "scaledData.select(\"scaledFeatures\").tail(10)"
   ]
  },
  {
   "cell_type": "code",
   "execution_count": 5,
   "id": "408b4f17-fc46-4957-8a05-af3a0b7ada97",
   "metadata": {},
   "outputs": [],
   "source": [
    "\n",
    "(trainingData, testData) = scaledData.randomSplit([0.7, 0.3])\n",
    "lg = LogisticRegression(labelCol=\"Flight Status\", featuresCol=\"scaledFeatures\")\n",
    "\n",
    "# Chain indexers and tree in a Pipeline\n",
    "pipeline = Pipeline(stages=[lg])\n",
    "\n",
    "# Train model.  This also runs the indexers.\n",
    "model = pipeline.fit(trainingData)\n",
    "\n",
    "# Make predictions.\n",
    "predictions = model.transform(testData)"
   ]
  },
  {
   "cell_type": "code",
   "execution_count": 6,
   "id": "212b9262-7458-43a4-99df-d2b054f57a20",
   "metadata": {},
   "outputs": [
    {
     "name": "stdout",
     "output_type": "stream",
     "text": [
      "Test Error = 0.33034 \n"
     ]
    }
   ],
   "source": [
    "evaluator = MulticlassClassificationEvaluator(\n",
    "    labelCol=\"Flight Status\", predictionCol=\"prediction\", metricName=\"accuracy\")\n",
    "accuracy = evaluator.evaluate(predictions)\n",
    "print(\"Test Error = %g \" % (1.0 - accuracy))"
   ]
  },
  {
   "cell_type": "code",
   "execution_count": 7,
   "id": "d462bf62-09e0-476d-836d-522c8ddb14ec",
   "metadata": {},
   "outputs": [
    {
     "name": "stdout",
     "output_type": "stream",
     "text": [
      "Model Accuracy is :  0.66966014555652\n"
     ]
    }
   ],
   "source": [
    "print(\"Model Accuracy is : \", accuracy)"
   ]
  },
  {
   "cell_type": "code",
   "execution_count": null,
   "id": "a4f2883e-01cd-4ee3-a251-728a5d8ff968",
   "metadata": {},
   "outputs": [],
   "source": []
  }
 ],
 "metadata": {
  "kernelspec": {
   "display_name": "Python 3 (ipykernel)",
   "language": "python",
   "name": "python3"
  },
  "language_info": {
   "codemirror_mode": {
    "name": "ipython",
    "version": 3
   },
   "file_extension": ".py",
   "mimetype": "text/x-python",
   "name": "python",
   "nbconvert_exporter": "python",
   "pygments_lexer": "ipython3",
   "version": "3.11.5"
  }
 },
 "nbformat": 4,
 "nbformat_minor": 5
}
